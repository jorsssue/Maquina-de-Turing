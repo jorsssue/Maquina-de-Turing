{
 "cells": [
  {
   "cell_type": "markdown",
   "id": "870c3960",
   "metadata": {},
   "source": [
    "<img src=\"https://www.spixii.com/hubfs/WebAssets/img/turing%20machine.jpg#keepProtocol\" alt=\"Texto alternativo\" width=\"500\"/>"
   ]
  },
  {
   "cell_type": "markdown",
   "id": "ced8d258",
   "metadata": {},
   "source": [
    "# Simulación de una Máquina de Turing "
   ]
  },
  {
   "cell_type": "markdown",
   "id": "837ed81c",
   "metadata": {},
   "source": [
    "A continuación, vamos a implementar y simular una máquina de Turing utilizando Python. \n",
    "\n",
    "Una máquina de Turing es un modelo computacional que puede simular cualquier algoritmo computacional. Consiste en una cinta infinita, un cabezal que puede leer y escribir símbolos en la cinta, y un conjunto de estados que determinan el comportamiento de la máquina."
   ]
  },
  {
   "cell_type": "markdown",
   "id": "9c9dbec9",
   "metadata": {},
   "source": [
    "## Implementación de la clase MaquinaDeTuring"
   ]
  },
  {
   "cell_type": "markdown",
   "id": "7afa9393",
   "metadata": {},
   "source": [
    "## Definición de la Clase MáquinaTuring\n",
    "\n",
    "La clase `MáquinaTuring` incluye métodos para inicializar la máquina, realizar un paso de cálculo y ejecutar la máquina hasta que alcance un estado final."
   ]
  },
  {
   "cell_type": "code",
   "execution_count": null,
   "id": "44fd379d",
   "metadata": {},
   "outputs": [],
   "source": [
    "class MáquinaTuring:\n",
    "    def __init__(self, cinta, estado_inicial, estados_finales, función_transición):"
   ]
  },
  {
   "cell_type": "markdown",
   "id": "f89c23b3",
   "metadata": {},
   "source": [
    "Inicializa la máquina de Turing con la cinta, el estado inicial, los estados finales y la función de transición.\n",
    "\n",
    "- :param cinta: Una lista que representa la cinta de la máquina de Turing.\n",
    "- :param estado_inicial: El estado inicial de la máquina.\n",
    "- :param estados_finales: Un conjunto de estados finales que detendrán la máquina.\n",
    "- :param función_transición: Un diccionario que define las transiciones."
   ]
  },
  {
   "cell_type": "code",
   "execution_count": null,
   "id": "a4e3e43f",
   "metadata": {},
   "outputs": [],
   "source": [
    "        self.cinta = cinta\n",
    "        self.posición_cabezal = 0\n",
    "        self.estado_actual = estado_inicial\n",
    "        self.estados_finales = estados_finales\n",
    "        self.función_transición = función_transición\n",
    "\n",
    "    def paso(self):"
   ]
  },
  {
   "cell_type": "markdown",
   "id": "9eb7ae51",
   "metadata": {},
   "source": [
    "Realiza un paso de cálculo basado en el símbolo actual en la cinta y el estado actual de la máquina."
   ]
  },
  {
   "cell_type": "code",
   "execution_count": null,
   "id": "68e1a077",
   "metadata": {},
   "outputs": [],
   "source": [
    "        símbolo_actual = self.cinta[self.posición_cabezal]\n",
    "        if (self.estado_actual, símbolo_actual) in self.función_transición:\n",
    "            nuevo_estado, nuevo_símbolo, dirección = self.función_transición[(self.estado_actual, símbolo_actual)]\n",
    "            self.cinta[self.posición_cabezal] = nuevo_símbolo\n",
    "            self.estado_actual = nuevo_estado\n",
    "            if dirección == 'D':\n",
    "                self.posición_cabezal += 1\n",
    "            elif dirección == 'I':\n",
    "                self.posición_cabezal -= 1\n",
    "            if self.posición_cabezal < 0:\n",
    "                self.cinta = ['B'] + self.cinta\n",
    "                self.posición_cabezal = 0\n",
    "            elif self.posición_cabezal >= len(self.cinta):\n",
    "                self.cinta.append('B')\n",
    "        else:\n",
    "            print(\"No hay transición definida para el estado y símbolo actuales.\")\n",
    "            self.estado_actual = None\n",
    "\n",
    "    def ejecutar(self):"
   ]
  },
  {
   "cell_type": "markdown",
   "id": "ff116581",
   "metadata": {},
   "source": [
    "Ejecuta la máquina de Turing hasta que alcanza un estado final o no hay una transición definida."
   ]
  },
  {
   "cell_type": "code",
   "execution_count": null,
   "id": "a5da2e71",
   "metadata": {},
   "outputs": [],
   "source": [
    "        while self.estado_actual not in self.estados_finales and self.estado_actual is not None:\n",
    "            print(\"Cinta actual:\", ''.join(self.cinta))\n",
    "            self.paso()\n",
    "        if self.estado_actual is not None:\n",
    "            print(\"Cinta final:\", ''.join(self.cinta))\n",
    "            print(\"Estado final:\", self.estado_actual)"
   ]
  },
  {
   "cell_type": "markdown",
   "id": "fe37173d",
   "metadata": {},
   "source": [
    "## Función Principal\n",
    "\n",
    "La función principal inicializa una máquina de Turing con una cinta proporcionada por el usuario y define la función de transición, el estado inicial y los estados finales.\n"
   ]
  },
  {
   "cell_type": "code",
   "execution_count": null,
   "id": "2ba552ae",
   "metadata": {},
   "outputs": [],
   "source": [
    "def principal():"
   ]
  },
  {
   "cell_type": "markdown",
   "id": "5d7a37a2",
   "metadata": {},
   "source": [
    "Función principal para ejecutar la Máquina de Turing. Solicita al usuario que ingrese la cinta y configura la máquina."
   ]
  },
  {
   "cell_type": "code",
   "execution_count": null,
   "id": "57e69f5a",
   "metadata": {},
   "outputs": [],
   "source": [
    "    estado_inicial = 'q0'\n",
    "    estados_finales = {'qf'}\n",
    "    función_transición = {\n",
    "        ('q0', '0'): ('q1', '00', 'D'),\n",
    "        ('q0', '1'): ('q1', '11', 'D'),\n",
    "        ('q1', 'B'): ('qf', 'B', 'N'),\n",
    "        ('q1', '0'): ('q1', '00', 'D'),  # Nueva transición agregada\n",
    "        ('q1', '1'): ('q1', '11', 'D')   # Nueva transición agregada\n",
    "    }\n",
    "\n",
    "    cinta = list(input(\"Introduce la serie: \"))  # La entrada del usuario se convierte en una lista de caracteres\n",
    "\n",
    "    mt = MáquinaTuring(cinta, estado_inicial, estados_finales, función_transición)\n",
    "    mt.ejecutar()"
   ]
  },
  {
   "cell_type": "markdown",
   "id": "dab07ad4",
   "metadata": {},
   "source": [
    "## Ejecutar la función principal"
   ]
  },
  {
   "cell_type": "code",
   "execution_count": null,
   "id": "2340d5be",
   "metadata": {},
   "outputs": [],
   "source": [
    "if __name__ == \"__main__\":\n",
    "    principal()"
   ]
  },
  {
   "cell_type": "markdown",
   "id": "27b31ee0",
   "metadata": {},
   "source": [
    "## Explicación\n",
    "\n",
    "Para ejecutar el código, simplemente ejecute la celda de código anterior en su notebook de Jupyter. Se le pedirá que ingrese una serie de caracteres que representan la cinta inicial de la máquina de Turing. Luego, la máquina se ejecutará y mostrará el estado de la cinta después de cada paso hasta alcanzar un estado final.\n",
    "\n",
    "## Código completo"
   ]
  },
  {
   "cell_type": "code",
   "execution_count": 1,
   "id": "696a6d3f",
   "metadata": {},
   "outputs": [
    {
     "name": "stdout",
     "output_type": "stream",
     "text": [
      "Introduce la serie: 101101\n",
      "Cinta actual: 101101\n",
      "Cinta actual: 1101101\n",
      "Cinta actual: 11001101\n",
      "Cinta actual: 110011101\n",
      "Cinta actual: 1100111101\n",
      "Cinta actual: 11001111001\n",
      "Cinta actual: 110011110011B\n",
      "Cinta final: 110011110011B\n",
      "Estado final: qf\n"
     ]
    }
   ],
   "source": [
    "class MáquinaTuring:\n",
    "    def __init__(self, cinta, estado_inicial, estados_finales, función_transición):\n",
    "        self.cinta = cinta\n",
    "        self.posición_cabezal = 0\n",
    "        self.estado_actual = estado_inicial\n",
    "        self.estados_finales = estados_finales\n",
    "        self.función_transición = función_transición\n",
    "\n",
    "    def paso(self):\n",
    "        símbolo_actual = self.cinta[self.posición_cabezal]\n",
    "        if (self.estado_actual, símbolo_actual) in self.función_transición:\n",
    "            nuevo_estado, nuevo_símbolo, dirección = self.función_transición[(self.estado_actual, símbolo_actual)]\n",
    "            self.cinta[self.posición_cabezal] = nuevo_símbolo\n",
    "            self.estado_actual = nuevo_estado\n",
    "            if dirección == 'D':\n",
    "                self.posición_cabezal += 1\n",
    "            elif dirección == 'I':\n",
    "                self.posición_cabezal -= 1\n",
    "            if self.posición_cabezal < 0:\n",
    "                self.cinta = ['B'] + self.cinta\n",
    "                self.posición_cabezal = 0\n",
    "            elif self.posición_cabezal >= len(self.cinta):\n",
    "                self.cinta.append('B')\n",
    "        else:\n",
    "            print(\"No hay transición definida para el estado y símbolo actuales.\")\n",
    "            self.estado_actual = None\n",
    "\n",
    "    def ejecutar(self):\n",
    "        while self.estado_actual not in self.estados_finales and self.estado_actual is not None:\n",
    "            print(\"Cinta actual:\", ''.join(self.cinta))\n",
    "            self.paso()\n",
    "        if self.estado_actual is not None:\n",
    "            print(\"Cinta final:\", ''.join(self.cinta))\n",
    "            print(\"Estado final:\", self.estado_actual)\n",
    "\n",
    "\n",
    "def principal():\n",
    "    estado_inicial = 'q0'\n",
    "    estados_finales = {'qf'}\n",
    "    función_transición = {\n",
    "        ('q0', '0'): ('q1', '00', 'D'),\n",
    "        ('q0', '1'): ('q1', '11', 'D'),\n",
    "        ('q1', 'B'): ('qf', 'B', 'N'),\n",
    "        ('q1', '0'): ('q1', '00', 'D'),  # Nueva transición agregada\n",
    "        ('q1', '1'): ('q1', '11', 'D')   # Nueva transición agregada\n",
    "    }\n",
    "\n",
    "    cinta = list(input(\"Introduce la serie: \"))  # La entrada del usuario se convierte en una lista de caracteres\n",
    "\n",
    "    mt = MáquinaTuring(cinta, estado_inicial, estados_finales, función_transición)\n",
    "    mt.ejecutar()\n",
    "\n",
    "if __name__ == \"__main__\":\n",
    "    principal()\n"
   ]
  }
 ],
 "metadata": {
  "kernelspec": {
   "display_name": "Python 3 (ipykernel)",
   "language": "python",
   "name": "python3"
  },
  "language_info": {
   "codemirror_mode": {
    "name": "ipython",
    "version": 3
   },
   "file_extension": ".py",
   "mimetype": "text/x-python",
   "name": "python",
   "nbconvert_exporter": "python",
   "pygments_lexer": "ipython3",
   "version": "3.11.4"
  }
 },
 "nbformat": 4,
 "nbformat_minor": 5
}
