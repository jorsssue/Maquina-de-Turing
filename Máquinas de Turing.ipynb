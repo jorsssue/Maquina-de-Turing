{
 "cells": [
  {
   "cell_type": "markdown",
   "id": "ced8d258",
   "metadata": {},
   "source": [
    "# Simulación de una Máquina de Turing "
   ]
  },
  {
   "cell_type": "markdown",
   "id": "837ed81c",
   "metadata": {},
   "source": [
    "A continuación, vamos a implementar y simular una máquina de Turing utilizando Python. \n",
    "\n",
    "Una máquina de Turing es un modelo computacional que puede simular cualquier algoritmo computacional. Consiste en una cinta infinita, un cabezal que puede leer y escribir símbolos en la cinta, y un conjunto de estados que determinan el comportamiento de la máquina."
   ]
  },
  {
   "cell_type": "markdown",
   "id": "9c9dbec9",
   "metadata": {},
   "source": [
    "## Implementación de la clase MaquinaDeTuring"
   ]
  },
  {
   "cell_type": "code",
   "execution_count": null,
   "id": "67abfd0b",
   "metadata": {},
   "outputs": [],
   "source": [
    "class MaquinaDeTuring:\n",
    "    def __init__(self, cinta, estado_inicial, estados_finales, funcion_transicion):"
   ]
  },
  {
   "cell_type": "markdown",
   "id": "f2d54847",
   "metadata": {},
   "source": [
    "Inicializa la Máquina de Turing con los parámetros dados.\n",
    "        \n",
    "Parámetros:\n",
    "- cinta: Cadena de entrada en la cinta de la máquina.\n",
    "- estado_inicial: El estado inicial de la máquina.\n",
    "- estados_finales: Un conjunto de estados finales de la máquina.\n",
    "- funcion_transicion: Un diccionario que define la función de transición."
   ]
  },
  {
   "cell_type": "code",
   "execution_count": null,
   "id": "bf84cfed",
   "metadata": {},
   "outputs": [],
   "source": [
    "        self.cinta = list(cinta)\n",
    "        self.posicion_cabezal = 0\n",
    "        self.estado_actual = estado_inicial\n",
    "        self.estados_finales = estados_finales\n",
    "        self.funcion_transicion = funcion_transicion\n",
    "        self.simbolo_blanco = '_'\n",
    "\n",
    "    def leer_simbolo(self):"
   ]
  },
  {
   "cell_type": "markdown",
   "id": "2dba8c0d",
   "metadata": {},
   "source": [
    "Lee el símbolo en la posición actual del cabezal en la cinta."
   ]
  },
  {
   "cell_type": "code",
   "execution_count": null,
   "id": "b052b69b",
   "metadata": {},
   "outputs": [],
   "source": [
    "        if self.posicion_cabezal < 0:\n",
    "            self.cinta.insert(0, self.simbolo_blanco)\n",
    "            self.posicion_cabezal = 0\n",
    "        elif self.posicion_cabezal >= len(self.cinta):\n",
    "            self.cinta.append(self.simbolo_blanco)\n",
    "        return self.cinta[self.posicion_cabezal]\n",
    "\n",
    "    def escribir_simbolo(self, simbolo):"
   ]
  },
  {
   "cell_type": "markdown",
   "id": "05d9be20",
   "metadata": {},
   "source": [
    "Escribe un símbolo en la posición actual del cabezal en la cinta.\n",
    "        \n",
    "Parámetros:\n",
    "- simbolo: El símbolo a escribir en la cinta."
   ]
  },
  {
   "cell_type": "code",
   "execution_count": null,
   "id": "4a0f175d",
   "metadata": {},
   "outputs": [],
   "source": [
    "        self.cinta[self.posicion_cabezal] = simbolo\n",
    "\n",
    "    def mover_cabezal(self, direccion):"
   ]
  },
  {
   "cell_type": "markdown",
   "id": "3e4c90c8",
   "metadata": {},
   "source": [
    "Mueve el cabezal en la dirección especificada.\n",
    "        \n",
    "Parámetros:\n",
    "- direccion: 'D' para derecha, 'I' para izquierda."
   ]
  },
  {
   "cell_type": "code",
   "execution_count": null,
   "id": "30ad91e4",
   "metadata": {},
   "outputs": [],
   "source": [
    "        if direccion == 'D':\n",
    "            self.posicion_cabezal += 1\n",
    "        elif direccion == 'I':\n",
    "            self.posicion_cabezal -= 1\n",
    "\n",
    "    def paso(self):"
   ]
  },
  {
   "cell_type": "markdown",
   "id": "feda3645",
   "metadata": {},
   "source": [
    "Ejecuta un paso de la máquina de Turing de acuerdo con la función de transición."
   ]
  },
  {
   "cell_type": "code",
   "execution_count": null,
   "id": "3237d82e",
   "metadata": {},
   "outputs": [],
   "source": [
    "        simbolo_actual = self.leer_simbolo()\n",
    "        clave = (self.estado_actual, simbolo_actual)\n",
    "\n",
    "        if clave in self.funcion_transicion:\n",
    "            nuevo_estado, simbolo_escribir, direccion_mover = self.funcion_transicion[clave]\n",
    "            self.escribir_simbolo(simbolo_escribir)\n",
    "            self.mover_cabezal(direccion_mover)\n",
    "            self.estado_actual = nuevo_estado\n",
    "        else:\n",
    "            raise Exception(f\"No hay transición definida para el estado '{self.estado_actual}' y el símbolo '{simbolo_actual}'\")\n",
    "\n",
    "    def ejecutar(self):"
   ]
  },
  {
   "cell_type": "markdown",
   "id": "33e95de3",
   "metadata": {},
   "source": [
    "Ejecuta la máquina de Turing hasta alcanzar un estado final.\n",
    "        \n",
    "Retorna:\n",
    "- El contenido final de la cinta como una cadena."
   ]
  },
  {
   "cell_type": "code",
   "execution_count": null,
   "id": "3d244ca2",
   "metadata": {},
   "outputs": [],
   "source": [
    "        while self.estado_actual not in self.estados_finales:\n",
    "            self.paso()\n",
    "        return ''.join(self.cinta).strip(self.simbolo_blanco)"
   ]
  },
  {
   "cell_type": "markdown",
   "id": "09815d39",
   "metadata": {},
   "source": [
    "## Ejemplo de uso"
   ]
  },
  {
   "cell_type": "markdown",
   "id": "afb8501a",
   "metadata": {},
   "source": [
    "Definición de la máquina de Turing"
   ]
  },
  {
   "cell_type": "code",
   "execution_count": null,
   "id": "7e24de0b",
   "metadata": {},
   "outputs": [],
   "source": [
    "cinta = \"1101\""
   ]
  },
  {
   "cell_type": "markdown",
   "id": "05c5ddd8",
   "metadata": {},
   "source": [
    "Cadena de entrada"
   ]
  },
  {
   "cell_type": "code",
   "execution_count": null,
   "id": "30da2911",
   "metadata": {},
   "outputs": [],
   "source": [
    "estado_inicial = 'q0'\n",
    "estados_finales = {'qf'}\n",
    "funcion_transicion = {\n",
    "    ('q0', '1'): ('q1', '1', 'D'),\n",
    "    ('q0', '0'): ('q0', '0', 'D'),\n",
    "    ('q0', '_'): ('qf', '_', 'N'),\n",
    "    ('q1', '1'): ('q0', '1', 'D'),\n",
    "    ('q1', '0'): ('q1', '0', 'D'),\n",
    "    ('q1', '_'): ('qf', '_', 'N'),\n",
    "}"
   ]
  },
  {
   "cell_type": "markdown",
   "id": "2f3cbc85",
   "metadata": {},
   "source": [
    "## Creación de la máquina de Turing"
   ]
  },
  {
   "cell_type": "code",
   "execution_count": null,
   "id": "7352e906",
   "metadata": {},
   "outputs": [],
   "source": [
    "mt = MaquinaDeTuring(cinta, estado_inicial, estados_finales, funcion_transicion)"
   ]
  },
  {
   "cell_type": "markdown",
   "id": "7bd15daf",
   "metadata": {},
   "source": [
    "## Ejecución e Impresión del resultado de la máquina de Turing "
   ]
  },
  {
   "cell_type": "code",
   "execution_count": null,
   "id": "77978af8",
   "metadata": {},
   "outputs": [],
   "source": [
    "cinta_final = mt.ejecutar()\n",
    "print(\"Contenido final de la cinta:\", cinta_final)"
   ]
  },
  {
   "cell_type": "markdown",
   "id": "dc3b1910",
   "metadata": {},
   "source": [
    "# Código completo"
   ]
  },
  {
   "cell_type": "code",
   "execution_count": 1,
   "id": "05e92fb3",
   "metadata": {},
   "outputs": [
    {
     "name": "stdout",
     "output_type": "stream",
     "text": [
      "Contenido final de la cinta: 1101\n"
     ]
    }
   ],
   "source": [
    "class MaquinaDeTuring:\n",
    "    def __init__(self, cinta, estado_inicial, estados_finales, funcion_transicion):\n",
    "        self.cinta = list(cinta)\n",
    "        self.posicion_cabezal = 0\n",
    "        self.estado_actual = estado_inicial\n",
    "        self.estados_finales = estados_finales\n",
    "        self.funcion_transicion = funcion_transicion\n",
    "        self.simbolo_blanco = '_'\n",
    "\n",
    "    def leer_simbolo(self):\n",
    "        if self.posicion_cabezal < 0:\n",
    "            self.cinta.insert(0, self.simbolo_blanco)\n",
    "            self.posicion_cabezal = 0\n",
    "        elif self.posicion_cabezal >= len(self.cinta):\n",
    "            self.cinta.append(self.simbolo_blanco)\n",
    "        return self.cinta[self.posicion_cabezal]\n",
    "\n",
    "    def escribir_simbolo(self, simbolo):\n",
    "        self.cinta[self.posicion_cabezal] = simbolo\n",
    "\n",
    "    def mover_cabezal(self, direccion):\n",
    "        if direccion == 'D':\n",
    "            self.posicion_cabezal += 1\n",
    "        elif direccion == 'I':\n",
    "            self.posicion_cabezal -= 1\n",
    "\n",
    "    def paso(self):\n",
    "        simbolo_actual = self.leer_simbolo()\n",
    "        clave = (self.estado_actual, simbolo_actual)\n",
    "\n",
    "        if clave in self.funcion_transicion:\n",
    "            nuevo_estado, simbolo_escribir, direccion_mover = self.funcion_transicion[clave]\n",
    "            self.escribir_simbolo(simbolo_escribir)\n",
    "            self.mover_cabezal(direccion_mover)\n",
    "            self.estado_actual = nuevo_estado\n",
    "        else:\n",
    "            raise Exception(f\"No hay transición definida para el estado '{self.estado_actual}' y el símbolo '{simbolo_actual}'\")\n",
    "\n",
    "    def ejecutar(self):\n",
    "        while self.estado_actual not in self.estados_finales:\n",
    "            self.paso()\n",
    "        return ''.join(self.cinta).strip(self.simbolo_blanco)\n",
    "\n",
    "cinta = \"1101\"\n",
    "estado_inicial = 'q0'\n",
    "estados_finales = {'qf'}\n",
    "funcion_transicion = {\n",
    "    ('q0', '1'): ('q1', '1', 'D'),\n",
    "    ('q0', '0'): ('q0', '0', 'D'),\n",
    "    ('q0', '_'): ('qf', '_', 'N'),\n",
    "    ('q1', '1'): ('q0', '1', 'D'),\n",
    "    ('q1', '0'): ('q1', '0', 'D'),\n",
    "    ('q1', '_'): ('qf', '_', 'N'),\n",
    "}\n",
    "\n",
    "mt = MaquinaDeTuring(cinta, estado_inicial, estados_finales, funcion_transicion)\n",
    "cinta_final = mt.ejecutar()\n",
    "print(\"Contenido final de la cinta:\", cinta_final)\n"
   ]
  }
 ],
 "metadata": {
  "kernelspec": {
   "display_name": "Python 3 (ipykernel)",
   "language": "python",
   "name": "python3"
  },
  "language_info": {
   "codemirror_mode": {
    "name": "ipython",
    "version": 3
   },
   "file_extension": ".py",
   "mimetype": "text/x-python",
   "name": "python",
   "nbconvert_exporter": "python",
   "pygments_lexer": "ipython3",
   "version": "3.11.4"
  }
 },
 "nbformat": 4,
 "nbformat_minor": 5
}
